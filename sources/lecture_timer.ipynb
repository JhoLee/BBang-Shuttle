{
 "cells": [
  {
   "cell_type": "markdown",
   "source": [
    "## Set Root Directory and Out Directory"
   ],
   "metadata": {
    "collapsed": false
   }
  },
  {
   "cell_type": "code",
   "execution_count": null,
   "outputs": [],
   "source": [
    "import os\n",
    "import time\n",
    "\n",
    "ROOT_DIR = os.path.abspath('')\n",
    "OUT_DIR = os.path.join(ROOT_DIR, 'out')\n",
    "\n",
    "if not os.path.exists(OUT_DIR):\n",
    "    os.makedirs(OUT_DIR)"
   ],
   "metadata": {
    "collapsed": false,
    "pycharm": {
     "name": "#%%\n",
     "is_executing": true
    }
   }
  },
  {
   "cell_type": "markdown",
   "source": [
    "## Load WebDriver for Chrome\n",
    "https://sites.google.com/a/chromium.org/chromedriver/downloads"
   ],
   "metadata": {
    "collapsed": false
   }
  },
  {
   "cell_type": "code",
   "execution_count": null,
   "outputs": [],
   "source": [
    "DRIVER = os.path.join(ROOT_DIR, 'chromedriver')"
   ],
   "metadata": {
    "collapsed": false,
    "pycharm": {
     "name": "#%%\n",
     "is_executing": true
    }
   }
  },
  {
   "cell_type": "code",
   "execution_count": null,
   "outputs": [],
   "source": [
    "from selenium import webdriver\n",
    "\n",
    "driver = webdriver.Chrome(DRIVER)\n",
    "\n",
    "driver.implicitly_wait(5)\n",
    "\n",
    "window = {}\n",
    "\n",
    "window['main'] = driver.window_handles[-1]"
   ],
   "metadata": {
    "collapsed": false,
    "pycharm": {
     "name": "#%%\n",
     "is_executing": true
    }
   }
  },
  {
   "cell_type": "markdown",
   "source": [
    "## Open Page"
   ],
   "metadata": {
    "collapsed": false
   }
  },
  {
   "cell_type": "code",
   "execution_count": null,
   "outputs": [],
   "source": [
    "ECAMPUS = 'https://ecampus.ut.ac.kr'"
   ],
   "metadata": {
    "collapsed": false,
    "pycharm": {
     "name": "#%%\n",
     "is_executing": true
    }
   }
  },
  {
   "cell_type": "code",
   "execution_count": null,
   "outputs": [],
   "source": [
    "\n",
    "driver.get(ECAMPUS)"
   ],
   "metadata": {
    "collapsed": false,
    "pycharm": {
     "name": "#%%\n",
     "is_executing": true
    }
   }
  },
  {
   "cell_type": "markdown",
   "source": [
    "## Load Authentication Info"
   ],
   "metadata": {
    "collapsed": false
   }
  },
  {
   "cell_type": "code",
   "execution_count": null,
   "outputs": [],
   "source": [
    "import json\n",
    "\n",
    "SECRET_JSON = os.path.join(ROOT_DIR, 'secrets.json')"
   ],
   "metadata": {
    "collapsed": false,
    "pycharm": {
     "name": "#%%\n",
     "is_executing": true
    }
   }
  },
  {
   "cell_type": "code",
   "execution_count": null,
   "outputs": [],
   "source": [
    "with open(SECRET_JSON) as f:\n",
    "    secrets = json.load(f)\n",
    "\n",
    "login_id = secrets[\"ID\"]\n",
    "login_pw = secrets[\"PW\"]"
   ],
   "metadata": {
    "collapsed": false,
    "pycharm": {
     "name": "#%%\n",
     "is_executing": true
    }
   }
  },
  {
   "cell_type": "markdown",
   "source": [
    "## Login"
   ],
   "metadata": {
    "collapsed": false
   }
  },
  {
   "cell_type": "code",
   "execution_count": null,
   "outputs": [],
   "source": [
    "def logout():\n",
    "    btn_logout = driver.find_element_by_id('btn_logout')\n",
    "    btn_logout.click()\n",
    "\n",
    "def login(_id, _pw):\n",
    "    try:\n",
    "        logout()\n",
    "    except:\n",
    "        pass\n",
    "\n",
    "    # Enter Info\n",
    "    input_id = driver.find_element_by_id('id')\n",
    "    input_pw = driver.find_element_by_id('pass')\n",
    "\n",
    "    input_id.send_keys(_id)\n",
    "    input_pw.send_keys(_pw)\n",
    "\n",
    "    # Login\n",
    "    driver.execute_script('login_proc()')"
   ],
   "metadata": {
    "collapsed": false,
    "pycharm": {
     "name": "#%%\n",
     "is_executing": true
    }
   }
  },
  {
   "cell_type": "code",
   "execution_count": null,
   "outputs": [],
   "source": [
    "time.sleep(5)\n",
    "login(login_id, login_pw)\n",
    "\n",
    "login_id, login_pw = (None, None)\n",
    "time.sleep(10)"
   ],
   "metadata": {
    "collapsed": false,
    "pycharm": {
     "name": "#%%\n",
     "is_executing": true
    }
   }
  },
  {
   "cell_type": "code",
   "execution_count": null,
   "outputs": [],
   "source": [
    "panel = driver.find_element_by_id('selfInfoAfter')\n",
    "lecture_list = panel.find_element_by_class_name('lecInfo')\n",
    "\n",
    "print(lecture_list)\n",
    "\n",
    "lectures = lecture_list.find_elements_by_xpath(\"//a[contains(., '2020')]\")\n",
    "\n",
    "print(lectures)\n"
   ],
   "metadata": {
    "collapsed": false,
    "pycharm": {
     "name": "#%%\n",
     "is_executing": true
    }
   }
  },
  {
   "cell_type": "markdown",
   "source": [
    "## Enter The Lecture"
   ],
   "metadata": {
    "collapsed": false
   }
  },
  {
   "cell_type": "code",
   "execution_count": null,
   "outputs": [],
   "source": [
    "sample_lecture = lectures[0]\n",
    "\n",
    "sample_lecture.click()"
   ],
   "metadata": {
    "collapsed": false,
    "pycharm": {
     "name": "#%%\n",
     "is_executing": true
    }
   }
  },
  {
   "cell_type": "markdown",
   "source": [
    "You can enter the 'lecture room' with path below.\n",
    "It will lead you to the lecture room of the last lecture you entered..."
   ],
   "metadata": {
    "collapsed": false
   }
  },
  {
   "cell_type": "code",
   "execution_count": null,
   "outputs": [],
   "source": [
    "lecture_room_url = \"https://ecampus.ut.ac.kr/lms/class/courseSchedule/doListView.dunet\"\n",
    "\n",
    "driver.get(lecture_room_url)\n",
    "time.sleep(2)"
   ],
   "metadata": {
    "collapsed": false,
    "pycharm": {
     "name": "#%%\n",
     "is_executing": true
    }
   }
  },
  {
   "cell_type": "markdown",
   "source": [
    "## Get courses list\n"
   ],
   "metadata": {
    "collapsed": false
   }
  },
  {
   "cell_type": "code",
   "execution_count": null,
   "outputs": [],
   "source": [
    "# not_progressed_list = driver.find_elements_by_xpath(\"//td[contains(., 'not progressed')]\")\n",
    "current_courses_link = driver.find_elements_by_xpath(\"//a[contains(., 'Lecture view')]\")\n",
    "current_courses = [course_link.find_element_by_xpath(\"../..\") for course_link in current_courses_link]\n",
    "\n",
    "current_courses_data =  []\n",
    "titles = []\n",
    "links = []\n",
    "mins = []\n",
    "for course in current_courses:\n",
    "    datas = course.find_elements_by_tag_name('td')\n",
    "    title = datas[1].text\n",
    "    lecture_time = datas[2].text\n",
    "    period = datas[3].text\n",
    "    status = datas[4].text\n",
    "    link = datas[5].find_element_by_class_name('lectureWindow')\n",
    "    # link = datas[5]\n",
    "\n",
    "    print(title, lecture_time, period, status, link)\n",
    "    print()\n",
    "    if status != \"Complete\":\n",
    "        titles.append(title)\n",
    "        links.append(link)\n",
    "        mins.append(int(lecture_time[:-6]))\n",
    "\n",
    "print(titles)"
   ],
   "metadata": {
    "collapsed": false,
    "pycharm": {
     "name": "#%%\n",
     "is_executing": true
    }
   }
  },
  {
   "cell_type": "markdown",
   "source": [
    "## Check Study Time and Open Lecture Window"
   ],
   "metadata": {
    "collapsed": false
   }
  },
  {
   "cell_type": "code",
   "execution_count": null,
   "outputs": [],
   "source": [
    "import tqdm\n",
    "\n",
    "print(\"{} courses.\".format(len(links)))\n",
    "seconds = [minute * 60 for minute in mins]\n",
    "for sec,  title, link in tqdm.tqdm(zip(seconds, titles, links)):\n",
    "    print(\"{} for {}minutes...\".format(title, sec//60))\n",
    "    link.click()\n",
    "    window_lecture = driver.window_handles[-1]\n",
    "    time.sleep(sec + 100)\n",
    "\n",
    "    driver.switch_to_window(window_lecture)\n",
    "    driver.close()\n",
    "    print(\"Course End\")\n",
    "\n",
    "print(\"Finished.\")"
   ],
   "metadata": {
    "collapsed": false,
    "pycharm": {
     "name": "#%%\n",
     "is_executing": true
    }
   }
  },
  {
   "cell_type": "code",
   "execution_count": null,
   "outputs": [],
   "source": [
    "\n",
    "\n",
    "# sample_link = links[-1]\n",
    "# sample_course = sample_link.find_element_by_xpath(\"../..\")\n",
    "# tds = sample_course.find_elements_by_tag_name('td')\n",
    "# # sample_lecture_time = abcs[-1].find_element_by_name('td')[2][:-7]\n",
    "# print(tds[1].text)\n",
    "\n",
    "#TODO: \"not progressed and lecture VIEW'\n",
    "\n",
    "# sample_link.click()\n",
    "# window['lecture'] = driver.window_handles[-1]\n",
    "# time.sleep(5)"
   ],
   "metadata": {
    "collapsed": false,
    "pycharm": {
     "name": "#%%\n",
     "is_executing": true
    }
   }
  },
  {
   "cell_type": "code",
   "execution_count": null,
   "outputs": [],
   "source": [
    "window['lecture']"
   ],
   "metadata": {
    "collapsed": false,
    "pycharm": {
     "name": "#%%\n",
     "is_executing": true
    }
   }
  },
  {
   "cell_type": "code",
   "execution_count": null,
   "outputs": [],
   "source": [
    "\n"
   ],
   "metadata": {
    "collapsed": false,
    "pycharm": {
     "name": "#%%\n",
     "is_executing": true
    }
   }
  }
 ],
 "metadata": {
  "kernelspec": {
   "name": "python3",
   "language": "python",
   "display_name": "Python 3"
  },
  "language_info": {
   "codemirror_mode": {
    "name": "ipython",
    "version": 2
   },
   "file_extension": ".py",
   "mimetype": "text/x-python",
   "name": "python",
   "nbconvert_exporter": "python",
   "pygments_lexer": "ipython2",
   "version": "2.7.6"
  }
 },
 "nbformat": 4,
 "nbformat_minor": 0
}